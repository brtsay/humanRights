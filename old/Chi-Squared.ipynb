{
 "cells": [
  {
   "cell_type": "markdown",
   "metadata": {},
   "source": [
    "# Code"
   ]
  },
  {
   "cell_type": "code",
   "execution_count": 23,
   "metadata": {
    "collapsed": true
   },
   "outputs": [],
   "source": [
    "import csv\n",
    "import re\n",
    "import random\n",
    "import string\n",
    "import numpy as np\n",
    "from sklearn.feature_extraction.text import CountVectorizer\n",
    "from sklearn.feature_extraction.text import TfidfVectorizer\n",
    "from nltk import word_tokenize\n",
    "from nltk.corpus import stopwords\n",
    "from nltk.stem.porter import PorterStemmer\n",
    "from sklearn.feature_selection import chi2\n",
    "from sklearn.feature_selection import SelectKBest\n",
    "from sklearn.cross_validation import train_test_split\n",
    "from sklearn.linear_model import LogisticRegression"
   ]
  },
  {
   "cell_type": "code",
   "execution_count": 2,
   "metadata": {
    "collapsed": true
   },
   "outputs": [],
   "source": [
    "# define functions\n",
    "stemmer = PorterStemmer()\n",
    "def stem_tokens(tokens, stemmer):\n",
    "    stemmed = []\n",
    "    for item in tokens:\n",
    "        stemmed.append(stemmer.stem(item))\n",
    "    return stemmed\n",
    "\n",
    "def tokenize(text):\n",
    "    text = \"\".join([ch for ch in text if ch not in string.punctuation])\n",
    "    tokens = word_tokenize(text)\n",
    "    stems = stem_tokens(tokens, stemmer)\n",
    "    return stems\n",
    "\n",
    "# remove url's, hashtags, and @\n",
    "def cleaner(corpus):\n",
    "    for i in range(len(corpus)):\n",
    "        # corpus[i] = re.sub('http[s]?://(?:[a-zA-Z]|[0-9]|[$-_@.&+]|[!*\\(\\),]|(?:%[0-9a-fA-F][0-9a-fA-F]))+', '', corpus[i])\n",
    "        corpus[i] = re.sub(r'http\\S+', '', corpus[i])\n",
    "        corpus[i] = corpus[i].replace('@', '')\n",
    "        corpus[i] = corpus[i].replace('#', '')\n",
    "        corpus[i] = corpus[i].replace('RT', '')\n",
    "        corpus[i] = corpus[i].replace('amp', '')\n",
    "    return corpus"
   ]
  },
  {
   "cell_type": "markdown",
   "metadata": {},
   "source": [
    "Warning, explicit tweets below...."
   ]
  },
  {
   "cell_type": "code",
   "execution_count": 26,
   "metadata": {
    "collapsed": false,
    "scrolled": true
   },
   "outputs": [
    {
     "name": "stdout",
     "output_type": "stream",
     "text": [
      "US: Lockett’s suffering during execution on 29/4 may amount to cruel, inhuman &; degrading treatment: \n",
      "Argentina the 17th State to ratify OP3CRC &; give childen accesstojustice! UN Experts &; NGOs call on gvts to follow \n",
      "AlbertWoodfox is still behind bars. Tell BobbyJindal: Free Albert NOW!  stopsolitary \n",
      "RanaPlaza compensation fund pays first installments to 1,587 beneficiaries.  via cleanclothes Bangladesh\n",
      " MontseCarboni: Ghana states that immunity for Heads of States may be a potential risk for peace and stability ASP12 icc_cpi fidh_en\n",
      "The True Cost of Industrialized Food:  foodsecurity\n",
      ".openDemocracy: Indigenous activists use int'l humanrights to advance climatejustice  EarthDay PFII14 UNPFII\n",
      "A political consultant said oil &; gas officials need to exploit emotions and turn them against environmental groups\n",
      "\n",
      "Today UNrightswire celebrates World Hospice Day. We care, do you?  WHPCday \n",
      "Lunchtime reads via HuffPostWorld: What Has Gone Right in Afghanistan:\n",
      "\n",
      "Needa go home but I'm tooo lazy right now 😩\n",
      "SuperChuks10 it isn't new. It's a ps4 feature called Playstation Now where you can stream old playstation games. I'm just dabbling in some\n",
      "Harry_Styles now I can't sleep.\n",
      "Yall bitches be fighting over niggas who don't give a fuck about yall😴\n",
      "I wanna do something but then again I'm so lazy...\n",
      "Lin_Manuel Thanks again for your time today &; Congrats on such a game-changing show. Looking forward to the OBC recording. HAMILTONpublic\n",
      "Gee, thanks Steve.\n",
      "TweetMyJobs Writing Job alert: Looking for a Article Writer | GWscore | Greensboro, NC  Jobs\n",
      "The Columbine Flower represents triumph over tragedy and thats why I want it to be our class of 2015 flower \n",
      "Steve didn't knock one tight on thirteen today, instead he drained it from 140 out. legendary… \n"
     ]
    }
   ],
   "source": [
    "# read in data\n",
    "\n",
    "with open('/home/b/Documents/humanRights/human_rights_training_sample_8-18-15.csv') as csvfile: \n",
    "    reader = csv.reader(csvfile)\n",
    "    next(reader, None) # skip headers\n",
    "    hr = [row[1] for row in reader]\n",
    "\n",
    "hr = cleaner(hr)\n",
    "for i in range(10):\n",
    "    print(random.choice(hr))\n",
    "\n",
    "with open('/home/b/Documents/humanRights/non_hr_training_sample_8-21-15.csv') as csvfile:\n",
    "    reader = csv.reader(csvfile)\n",
    "    non_hr = [row[11] for row in reader]\n",
    "\n",
    "non_hr = cleaner(non_hr)\n",
    "for i in range(10):\n",
    "    print(random.choice(non_hr))"
   ]
  },
  {
   "cell_type": "code",
   "execution_count": 24,
   "metadata": {
    "collapsed": false
   },
   "outputs": [],
   "source": [
    "# transform data\n",
    "\n",
    "all_tweets = hr + non_hr\n",
    "y = np.concatenate([np.ones(len(hr)), np.zeros(len(non_hr))])\n",
    "\n",
    "c_vectorizer = TfidfVectorizer(tokenizer = tokenize, stop_words = 'english', strip_accents = 'unicode')\n",
    "\n",
    "counts = c_vectorizer.fit_transform(all_tweets)"
   ]
  },
  {
   "cell_type": "code",
   "execution_count": 30,
   "metadata": {
    "collapsed": false
   },
   "outputs": [
    {
     "name": "stdout",
     "output_type": "stream",
     "text": [
      "[('support', 296.7305649331779), ('shit', 303.46970219506045), ('na', 309.91068568228184), ('justic', 313.42718268508224), ('protect', 334.89097515308072), ('got', 354.54129493469424), ('report', 359.52831633188515), ('fuck', 368.1405942889794), ('job', 369.23647638332687), ('lol', 376.62896692998879), ('just', 404.48669713049935), ('women', 408.60484362918498), ('dont', 416.67538889851954), ('love', 429.85859617526933), ('tortur', 437.02168682624398), ('like', 444.20975216174133), ('right', 605.90052928594571), ('humanright', 632.17347159587348), ('human', 658.6534018392756), ('im', 874.84224077504177)]\n"
     ]
    }
   ],
   "source": [
    "# chi-square feature selection\n",
    "\n",
    "chi2score = chi2(counts, y)[0]\n",
    "wscores = zip(c_vectorizer.get_feature_names(), chi2score)\n",
    "wchi2 = sorted(wscores, key = lambda x:x[1])\n",
    "top_wchi2 = wchi2[-1000:]\n",
    "words = [x[0] for x in top_wchi2]\n",
    "print(top_wchi2[-20:])"
   ]
  },
  {
   "cell_type": "code",
   "execution_count": 33,
   "metadata": {
    "collapsed": false
   },
   "outputs": [
    {
     "name": "stdout",
     "output_type": "stream",
     "text": [
      "Accuracy: 0.931496077392\n"
     ]
    }
   ],
   "source": [
    "# training\n",
    "u_vectorizer = TfidfVectorizer(tokenizer = tokenize, stop_words = 'english', strip_accents = 'unicode', vocabulary = words)\n",
    "counts_new = u_vectorizer.fit_transform(all_tweets)\n",
    "X_train, X_test, y_train, y_test = train_test_split(counts_new, y, test_size = 0.5)\n",
    "logit = LogisticRegression()\n",
    "logit.fit(X_train, y_train)\n",
    "predictions = logit.predict(X_test)\n",
    "acc_test = sum(y_test == predictions)/len(y_test)\n",
    "print('Accuracy:', acc_test)"
   ]
  },
  {
   "cell_type": "markdown",
   "metadata": {},
   "source": [
    "Note that the classifier performs well within sample"
   ]
  },
  {
   "cell_type": "code",
   "execution_count": 34,
   "metadata": {
    "collapsed": true
   },
   "outputs": [],
   "source": [
    "# labeling unclassified data\n",
    "\n",
    "with open('/home/b/Documents/humanRights/first200k.csv') as csvfile: \n",
    "    reader = csv.reader(csvfile)\n",
    "    next(reader, None) # skip headers\n",
    "    unclass = [row[11] for row in reader]\n",
    "\n",
    "u_vectorizer = CountVectorizer(tokenizer = tokenize, stop_words = 'english', strip_accents = 'unicode', vocabulary = words)\n",
    "X_un = u_vectorizer.fit_transform(unclass)\n",
    "\n",
    "un_pred = logit.predict(X_un)\n",
    "un_prob = logit.predict_proba(X_un)\n",
    "\n",
    "un_tweets = zip(unclass, un_prob)\n",
    "un_tweets = sorted(un_tweets, key = lambda x:x[1][0])"
   ]
  },
  {
   "cell_type": "markdown",
   "metadata": {},
   "source": [
    "# Results"
   ]
  },
  {
   "cell_type": "markdown",
   "metadata": {},
   "source": [
    "The below is the 100 highest scoring tweets. If we can get rid of Spanish tweets, then it does seem to perform fairly well. Much better than our previous machine learning attempts."
   ]
  },
  {
   "cell_type": "code",
   "execution_count": 45,
   "metadata": {
    "collapsed": false
   },
   "outputs": [
    {
     "name": "stdout",
     "output_type": "stream",
     "text": [
      "No pueden fallar en lo basico😡 lester bolon, en rally, la fanaticada metia en el juego y te sorprenden en pickoff? -.-\n",
      "\n",
      "Me escape de la rutina, para pilotear mi viaje Por que el cubo en el que vivía se convirtió en paisaje\n",
      "\n",
      "La renta, el sueldo, el trabajo en la oficina Lo cambie por las estrellas y por huertos de harina\n",
      "\n",
      "DEJEN DE CREER EN LOS QUE SE DISFRAZAN DE OPOSICIÒN PERO NO LUCHAN CONTRA EL REGIMEN. SOLO LE HACEN EL JUEGO Y GANAN TIEMPO PARA ELECCIONES.\n",
      "\n",
      "Happy to see oil dropping. Eat that Putin. All of our enemies are struggling due to low oil prices. Venezuela, Iran isis. #oil #stocks\n",
      "\n",
      "Aja y @RevistaSemana q es como Dios q esta en todas partes y todo lo sabe (lo que le conviene al TIO) y de esto que? http://t.co/K5hC4nDBHS\n",
      "\n",
      "Editando la historia del primer caso diagnosticado de #Ebola en los #USA. En la ciudad de #Dallas. http://t.co/wvYyPv36YU\n",
      "\n",
      "mi madre haya esta en el rancho disculpe si no le dicho que estoy muy agradecido por todo lo que me a dado\n",
      "\n",
      "Dios le tiene su destino a cada quien asi que preocupate por lo tuyo y no te fijes en lo del otro.\n",
      "\n",
      "Yo confío en el destino y en la marejada\n",
      "Yo no creo en la iglesia pero creo en tu mirada\n",
      "\n",
      "Que casualidad  le dijo a el Lo que Pasa Y Ella Me Blokea De What Y El Quita La horaa Jaja que Bien ..\n",
      "\n",
      "Gobierno de Hermanos Musulmanes en Egipto financió al ISIS despues siguio Iran y Palestina y Venezuela, mi opinion\n",
      "\n",
      "En Venezuela, una de las tragedias para las Flias es q un pequeño problema se transforma en gran problema. Gran logro Socialismo Siglo XXI.\n",
      "\n",
      "Discurso de Maduro en Fuerte Tiuna, estimulo mas el odio de ISIS en contra de EEUU y su pueblo. Desde Vnzla se alimenta odio contea USA\n",
      "\n",
      "Reino Unido cita al embajador de China para que explique la represión en Hong Kong – Diario Contraste http://t.co/5BBUVfdzFe\n",
      "\n",
      "Government confirms first case of Ebola in US (from @AP)...there should be a worldwide travel ban to West Africa!!! http://t.co/oI7SneoRyy\n",
      "\n",
      "En el intermedio y la mitad del tiempo estoy con la piel chinita y la otra mitad a moco tendido chaaaaa. https://t.co/GApeIE9Pzq\n",
      "\n",
      "Estaba haciendo la cama y vi la marca del chicle que se habia pegado en el acolchado; y me entre a reir sola JAJAJAJAJAJAJAJAJAJAJAJAJAJAJA\n",
      "\n",
      "@NoticiasRCN viven haciendose pajasos mentales con numeros y encuestas mientras se les robaron el Pais en sus narices! Y Colombia esta igual\n",
      "\n",
      "Police In Ferguson Lock Up Peaceful Daytime Protesters By Mistake, Chief Testifies - http://t.co/lpqfB6qXRc law for criminal incompetence.\n",
      "\n",
      "@PedroFerriz y en #reynosafollow se andan dando en la madre desde las 3 am\n",
      "\n",
      "Please sign newly created petition asking #Obama to support #Syria #Whitehelmets rescue workers  http://t.co/cZeXMhaotq Please RT\n",
      "\n",
      "Freedom.. Football.... Freedom... Football.... Freedom ... Football. Freedom football freedom football freedom football\n",
      "\n",
      "BUENAS TARDES A TODOS LOS VENEZOLANOS LUCHADORRES POR LA DEMOCRACIA Y LA LIBERTAD. Y QUE NO ESTAN EN POSES AMBIGUAS.\n",
      "\n",
      "sale Osorio Chong, como leyendo el arte de la guerra, cortafuego por lo prox del 2 de oct. bien por PeñaN, malo para el DF, estimula marchas\n",
      "\n",
      "@megaloli pffff, Bandai, esos son los joputas. El audio en ingles es la razon por la cual no he comprado ningun Tales Of en años.\n",
      "\n",
      "@wfaashelly #Ebola Many experts here say they r more concerned with influenza deaths. Are you worried? Absolute Power corrupts absolutely!\n",
      "\n",
      "No le voy a hablar\n",
      "No le voy a hablar\n",
      "No le voy a hablar\n",
      "No le voy a hablar\n",
      "No le voy a hablar\n",
      "No le voy a hablar\n",
      "Hola Mi.\n",
      "Belleza natural.\n",
      "\n",
      "The cycle of violence will only slow down if Palestinians get their basic human rights.\n",
      "#Palestine #Israel #ICC4Israel\n",
      "\n",
      "Romanos 8:28: Y sabemos que a los que aman a Dios, todas las cosas les ayudan a bien esto es, a los que conforme a su propósito son llamados\n",
      "\n",
      "Administration urges rejection of Brewer's appeal: The Obama administration has urged a court to reject Arizona... http://t.co/HaYRNYuSDl\n",
      "\n",
      "\"El nacionalista cree que su país es el mejor del mundo; no es cierto.El patriota cree que merece todo el amor del mundo; eso sí es cierto.\"\n",
      "\n",
      "@Prithvi1941 How could honest citizens support Corrupt Politicians when Law and Order have put the Corrupt in Jail and fined in millions Rs.\n",
      "\n",
      "1 case of Ebola in us everyone goes nuts yet thousands in Africa are dying from Ebola right now and no one seems to care\n",
      "\n",
      "Yo también sufro de ébola. Debo la renta. Debo el carro. Debo las tarjetas... #ébola #ebola #sufrodebola\n",
      "\n",
      "\"@luisgarcia7_: Omar Arellano en la banca de Rayados y el \"Venado\" Medina en la banca de Chiapas, Estaria bien si regresaran a Chivas?\"//No\n",
      "\n",
      "Ayer llegué a Dallas. Hoy se presenta el primer caso en la historia de ébola en Norteamérica... A 10 km de mi hotel.\n",
      "\n",
      "@MT8_9 Abortion is a LEGAL medical procedure. Not murder. If a woman committed murder to get out of child support she would go to jail.\n",
      "\n",
      "Tipazo el @Chefpepin !! Nos vemos el sabado en @WinnDixie en Fiesta Plaza en Tampa http://t.co/DCcALOUM3p\n",
      "\n",
      "Police In Ferguson Lock Up Peaceful Daytime Protesters By Mistake, Chief Testifies - http://t.co/wXG27PIY63: time to shut down Ferguson P.D.\n",
      "\n",
      "@pabloalboran #PorFin es preciosa y merece estar en todas las radios, que se escuche en todo el mundo😘❤️ Besotes amor, te quiero un monton!!\n",
      "\n",
      "@KPRCLocal2 smart growth carbon free social justice sustainable development green energy livable community's humans are carbon problem\n",
      "\n",
      "#ebola The first diagnosed case of ebola in the United States in Dallas.  I have compete confidence that Texas and federal authorities have\n",
      "\n",
      "Entuciasmados en las trincheras en Busca de MS Sonadores y Promobiendo nuestros productos yes sise puede grasias amis de ej AyJ MD x las MTS\n",
      "\n",
      "Hmmm viendo @project_kotlin por primera vez de la mano de @hhariri. Siento un temblor en la fuerza, @svqjug hará lo que pueda por traerlo\n",
      "\n",
      "Government confirms first case of Ebola in US: Federal health officials on Tuesday confirmed the first case of... http://t.co/asbfQSePAa\n",
      "\n",
      "Government confirms first case of Ebola in US: Federal health officials on Tuesday confirmed the first case of… http://t.co/3o03LkHDZF\n",
      "\n",
      "@rodrigoguajardo Bah, en ese espíritu es que se creó lo del presupuesto estructural, y blah, blah. Ahora, depende de a qué va el gasto.\n",
      "\n",
      "WATCH: Health Officials Address Dallas Ebola Case: National and local health officials addressed reporters Tuesday… http://t.co/5C6jTkdnwr\n",
      "\n",
      "Acepta la responsabilidad de edificarte a ti mismo y el valor de acusarte en el fracaso, para volver a empezar, corrigiendote.\n"
     ]
    }
   ],
   "source": [
    "tweets_only = [x[0] for x in un_tweets]\n",
    "print('\\n\\n'.join(tweets_only[:50]))"
   ]
  }
 ],
 "metadata": {
  "kernelspec": {
   "display_name": "IPython (Python 3)",
   "language": "python",
   "name": "python3"
  },
  "language_info": {
   "name": "python",
   "version": "3.4.3"
  }
 },
 "nbformat": 4,
 "nbformat_minor": 0
}
